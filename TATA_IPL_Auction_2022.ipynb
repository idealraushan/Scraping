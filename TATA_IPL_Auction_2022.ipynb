{
 "cells": [
  {
   "cell_type": "markdown",
   "id": "4d4c6c30",
   "metadata": {},
   "source": [
    "# TATA IPL Auction - 2022"
   ]
  },
  {
   "cell_type": "markdown",
   "id": "78a000d1",
   "metadata": {},
   "source": [
    "### Top buys from TATA IPL Player Auction 2022 "
   ]
  },
  {
   "cell_type": "markdown",
   "id": "07d4b819",
   "metadata": {},
   "source": [
    "#### 204 players were sold and INR 5,51,70,00,000 was splurged amongst the ten franchises during the two-day TATA Indian Premier League (IPL) 2022 Auction in Bengaluru. Young Indian cricketers dominated the proceedings at the auction, with Ishan Kishan attracting the topmost bid of INR 15.25 Crore which saw him return to MI. Meanwhile, Deepak Chahar, who returned to CSK for INR 14 Crore, became the most expensive Indian pace bowler to be ever bought at the IPL Auction. KKR broke the bank for Shreyas Iyer and bought the stylish right-handed batter for INR 12.25 Crore. Liam Livingstone, Wanindu Hasaranga, Nicholas Pooran, Shardul Thakur and Lockie Ferguson also made merry at the Auction while Avesh Khan became the most expensive uncapped player in the history of the IPL, with INR 10 Crore against his name, courtesy the new IPL entrant LSG. All and all, the ten franchises had two fruitful days at the mega auction and that sets up for a fascinating TATA IPL 2022. We can not wait! "
   ]
  },
  {
   "cell_type": "code",
   "execution_count": 1,
   "id": "4f6f4337",
   "metadata": {},
   "outputs": [],
   "source": [
    "import pandas as pd\n",
    "import requests\n",
    "from bs4 import BeautifulSoup\n"
   ]
  },
  {
   "cell_type": "code",
   "execution_count": 2,
   "id": "5e3463b2",
   "metadata": {},
   "outputs": [],
   "source": [
    "url = \"https://www.iplt20.com/auction\"\n",
    "r = requests.get(url)\n",
    "#print(r)\n",
    "soup = BeautifulSoup(r.text,\"lxml\")"
   ]
  },
  {
   "cell_type": "code",
   "execution_count": 3,
   "id": "efab4ee5",
   "metadata": {},
   "outputs": [
    {
     "name": "stdout",
     "output_type": "stream",
     "text": [
      "Empty DataFrame\n",
      "Columns: [TEAM, FUNDS REMAINING, OVERSEAS PLAYERS , TOTAL PLAYERS]\n",
      "Index: []\n"
     ]
    }
   ],
   "source": [
    "table = soup.find(\"table\" , class_ = \"ih-td-tab auction-tbl\")\n",
    "#print(table)\n",
    "headers = table.find_all(\"th\")\n",
    "#print(headers)\n",
    "titles = []\n",
    "for i in headers:\n",
    "    title = i.text\n",
    "    titles.append(title)\n",
    "#print(header)\n",
    "\n",
    "df = pd.DataFrame(columns=titles)\n",
    "print(df)"
   ]
  },
  {
   "cell_type": "code",
   "execution_count": 4,
   "id": "d618adcd",
   "metadata": {},
   "outputs": [
    {
     "name": "stdout",
     "output_type": "stream",
     "text": [
      "                          TEAM FUNDS REMAINING OVERSEAS PLAYERS  TOTAL PLAYERS\n",
      "0          Chennai Super Kings    ₹1,50,00,000                 8            25\n",
      "1               Delhi Capitals    ₹4,45,00,000                 8            25\n",
      "2               Gujarat Titans    ₹4,45,00,000                 8            25\n",
      "3        Kolkata Knight Riders    ₹1,65,00,000                 8            22\n",
      "4         Lucknow Super Giants    ₹3,55,00,000                 8            25\n",
      "5               Mumbai Indians       ₹5,00,000                 8            24\n",
      "6                 Punjab Kings   ₹12,20,00,000                 7            22\n",
      "7             Rajasthan Royals    ₹3,35,00,000                 8            25\n",
      "8  Royal Challengers Bangalore    ₹1,75,00,000                 8            25\n",
      "9          Sunrisers Hyderabad    ₹6,55,00,000                 8            25\n"
     ]
    }
   ],
   "source": [
    "rows  = table.find_all(\"tr\")\n",
    "\n",
    "for i in rows[1:]:\n",
    "    first_td = i.find_all(\"td\")[0].find(\"div\",class_ = \"ih-pt-ic\").text.strip()\n",
    "  #  print(i.text)\n",
    "    data = i.find_all(\"td\")[1:]\n",
    "    row = [tr.text for tr in data]\n",
    "    row.insert(0,first_td)\n",
    "    #print(row)\n",
    "    l =len(df)\n",
    "    df.loc[l] = row\n",
    "print(df)\n",
    "\n",
    "    \n",
    "    "
   ]
  },
  {
   "cell_type": "code",
   "execution_count": 6,
   "id": "4beb09eb",
   "metadata": {},
   "outputs": [],
   "source": [
    "df.to_csv(\"TATA_IPL_Auction_2022.csv\")"
   ]
  },
  {
   "cell_type": "code",
   "execution_count": 7,
   "id": "b737feef",
   "metadata": {},
   "outputs": [
    {
     "data": {
      "text/html": [
       "<div>\n",
       "<style scoped>\n",
       "    .dataframe tbody tr th:only-of-type {\n",
       "        vertical-align: middle;\n",
       "    }\n",
       "\n",
       "    .dataframe tbody tr th {\n",
       "        vertical-align: top;\n",
       "    }\n",
       "\n",
       "    .dataframe thead th {\n",
       "        text-align: right;\n",
       "    }\n",
       "</style>\n",
       "<table border=\"1\" class=\"dataframe\">\n",
       "  <thead>\n",
       "    <tr style=\"text-align: right;\">\n",
       "      <th></th>\n",
       "      <th>Unnamed: 0</th>\n",
       "      <th>TEAM</th>\n",
       "      <th>FUNDS REMAINING</th>\n",
       "      <th>OVERSEAS PLAYERS</th>\n",
       "      <th>TOTAL PLAYERS</th>\n",
       "    </tr>\n",
       "  </thead>\n",
       "  <tbody>\n",
       "    <tr>\n",
       "      <th>0</th>\n",
       "      <td>0</td>\n",
       "      <td>Chennai Super Kings</td>\n",
       "      <td>₹1,50,00,000</td>\n",
       "      <td>8</td>\n",
       "      <td>25</td>\n",
       "    </tr>\n",
       "    <tr>\n",
       "      <th>1</th>\n",
       "      <td>1</td>\n",
       "      <td>Delhi Capitals</td>\n",
       "      <td>₹4,45,00,000</td>\n",
       "      <td>8</td>\n",
       "      <td>25</td>\n",
       "    </tr>\n",
       "    <tr>\n",
       "      <th>2</th>\n",
       "      <td>2</td>\n",
       "      <td>Gujarat Titans</td>\n",
       "      <td>₹4,45,00,000</td>\n",
       "      <td>8</td>\n",
       "      <td>25</td>\n",
       "    </tr>\n",
       "    <tr>\n",
       "      <th>3</th>\n",
       "      <td>3</td>\n",
       "      <td>Kolkata Knight Riders</td>\n",
       "      <td>₹1,65,00,000</td>\n",
       "      <td>8</td>\n",
       "      <td>22</td>\n",
       "    </tr>\n",
       "    <tr>\n",
       "      <th>4</th>\n",
       "      <td>4</td>\n",
       "      <td>Lucknow Super Giants</td>\n",
       "      <td>₹3,55,00,000</td>\n",
       "      <td>8</td>\n",
       "      <td>25</td>\n",
       "    </tr>\n",
       "    <tr>\n",
       "      <th>5</th>\n",
       "      <td>5</td>\n",
       "      <td>Mumbai Indians</td>\n",
       "      <td>₹5,00,000</td>\n",
       "      <td>8</td>\n",
       "      <td>24</td>\n",
       "    </tr>\n",
       "    <tr>\n",
       "      <th>6</th>\n",
       "      <td>6</td>\n",
       "      <td>Punjab Kings</td>\n",
       "      <td>₹12,20,00,000</td>\n",
       "      <td>7</td>\n",
       "      <td>22</td>\n",
       "    </tr>\n",
       "    <tr>\n",
       "      <th>7</th>\n",
       "      <td>7</td>\n",
       "      <td>Rajasthan Royals</td>\n",
       "      <td>₹3,35,00,000</td>\n",
       "      <td>8</td>\n",
       "      <td>25</td>\n",
       "    </tr>\n",
       "    <tr>\n",
       "      <th>8</th>\n",
       "      <td>8</td>\n",
       "      <td>Royal Challengers Bangalore</td>\n",
       "      <td>₹1,75,00,000</td>\n",
       "      <td>8</td>\n",
       "      <td>25</td>\n",
       "    </tr>\n",
       "    <tr>\n",
       "      <th>9</th>\n",
       "      <td>9</td>\n",
       "      <td>Sunrisers Hyderabad</td>\n",
       "      <td>₹6,55,00,000</td>\n",
       "      <td>8</td>\n",
       "      <td>25</td>\n",
       "    </tr>\n",
       "  </tbody>\n",
       "</table>\n",
       "</div>"
      ],
      "text/plain": [
       "   Unnamed: 0                         TEAM FUNDS REMAINING  OVERSEAS PLAYERS   \\\n",
       "0           0          Chennai Super Kings    ₹1,50,00,000                  8   \n",
       "1           1               Delhi Capitals    ₹4,45,00,000                  8   \n",
       "2           2               Gujarat Titans    ₹4,45,00,000                  8   \n",
       "3           3        Kolkata Knight Riders    ₹1,65,00,000                  8   \n",
       "4           4         Lucknow Super Giants    ₹3,55,00,000                  8   \n",
       "5           5               Mumbai Indians       ₹5,00,000                  8   \n",
       "6           6                 Punjab Kings   ₹12,20,00,000                  7   \n",
       "7           7             Rajasthan Royals    ₹3,35,00,000                  8   \n",
       "8           8  Royal Challengers Bangalore    ₹1,75,00,000                  8   \n",
       "9           9          Sunrisers Hyderabad    ₹6,55,00,000                  8   \n",
       "\n",
       "   TOTAL PLAYERS  \n",
       "0             25  \n",
       "1             25  \n",
       "2             25  \n",
       "3             22  \n",
       "4             25  \n",
       "5             24  \n",
       "6             22  \n",
       "7             25  \n",
       "8             25  \n",
       "9             25  "
      ]
     },
     "execution_count": 7,
     "metadata": {},
     "output_type": "execute_result"
    }
   ],
   "source": [
    "dataset = pd.read_csv(\"C:\\\\Users\\\\hp\\\\OneDrive\\\\Desktop\\\\Python\\\\TATA_IPL_Auction_2022.csv\")\n",
    "dataset"
   ]
  },
  {
   "cell_type": "code",
   "execution_count": null,
   "id": "08606030",
   "metadata": {},
   "outputs": [],
   "source": []
  }
 ],
 "metadata": {
  "kernelspec": {
   "display_name": "Python 3 (ipykernel)",
   "language": "python",
   "name": "python3"
  },
  "language_info": {
   "codemirror_mode": {
    "name": "ipython",
    "version": 3
   },
   "file_extension": ".py",
   "mimetype": "text/x-python",
   "name": "python",
   "nbconvert_exporter": "python",
   "pygments_lexer": "ipython3",
   "version": "3.9.12"
  }
 },
 "nbformat": 4,
 "nbformat_minor": 5
}
