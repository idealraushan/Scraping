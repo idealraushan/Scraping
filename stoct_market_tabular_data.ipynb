{
 "cells": [
  {
   "cell_type": "code",
   "execution_count": 14,
   "id": "cd6972c4",
   "metadata": {},
   "outputs": [],
   "source": [
    "import requests\n",
    "import pandas as pd\n",
    "from bs4 import BeautifulSoup"
   ]
  },
  {
   "cell_type": "code",
   "execution_count": 9,
   "id": "14cbedb8",
   "metadata": {},
   "outputs": [],
   "source": [
    "url = \"https://ticker.finology.in/\"\n",
    "r = requests.get(url)\n",
    "#print(r)\n",
    "soup = BeautifulSoup(r.text,\"lxml\")"
   ]
  },
  {
   "cell_type": "code",
   "execution_count": 18,
   "id": "79a48950",
   "metadata": {},
   "outputs": [
    {
     "name": "stdout",
     "output_type": "stream",
     "text": [
      "Empty DataFrame\n",
      "Columns: [Company, PriceRs., Day HighRs.]\n",
      "Index: []\n"
     ]
    }
   ],
   "source": [
    "table = soup. find(\"table\",class_ = \"table table-sm table-hover screenertable\")\n",
    "headers = table.find_all(\"th\")\n",
    "titels = []\n",
    "for i in  headers:\n",
    "    title = i.text\n",
    "    titels.append(title)\n",
    "#print(company)\n",
    "\n",
    "\n",
    "df = pd.DataFrame(columns = titels)\n",
    "print(df)"
   ]
  },
  {
   "cell_type": "code",
   "execution_count": 23,
   "id": "7f10c0b6",
   "metadata": {},
   "outputs": [
    {
     "name": "stdout",
     "output_type": "stream",
     "text": [
      "\n",
      "\n",
      "TVS Motor\n",
      "\n",
      "1170.15\n",
      "1184.4\n",
      "\n",
      "\n",
      "\n",
      "Glenmark Pharma\n",
      "\n",
      "512\n",
      "516.9\n",
      "\n",
      "\n",
      "\n",
      "Dr. Reddy''s Lab\n",
      "\n",
      "4909.35\n",
      "4940\n",
      "\n",
      "\n",
      "\n",
      "JBM Auto\n",
      "\n",
      "813.75\n",
      "818.9\n",
      "\n",
      "\n",
      "\n",
      "Manappuram Finance\n",
      "\n",
      "129.6\n",
      "133.95\n",
      "\n",
      "\n",
      "\n",
      "Dalmia Bharat\n",
      "\n",
      "2052.5\n",
      "2078\n",
      "\n",
      "\n",
      "\n",
      "Polycab India\n",
      "\n",
      "3138.85\n",
      "3159.9\n",
      "\n",
      "\n",
      "\n",
      "Zydus Lifesciences\n",
      "\n",
      "517.1\n",
      "519.4\n",
      "\n",
      "\n",
      "\n",
      "Axita Cotton\n",
      "\n",
      "71.45\n",
      "71.7\n",
      "\n",
      "\n",
      "\n",
      "Aptech\n",
      "\n",
      "451.35\n",
      "455\n",
      "\n",
      "\n",
      "\n",
      "Som Distilleries\n",
      "\n",
      "171.2\n",
      "172.9\n",
      "\n",
      "\n",
      "\n",
      "NCC\n",
      "\n",
      "109.4\n",
      "112\n",
      "\n",
      "\n",
      "\n",
      "Titagarh Wagons\n",
      "\n",
      "300.35\n",
      "305.2\n",
      "\n",
      "\n",
      "\n",
      "KSolves India\n",
      "\n",
      "607.05\n",
      "623.65\n",
      "\n",
      "\n",
      "\n",
      "Surya Roshni\n",
      "\n",
      "768.6\n",
      "782.4\n",
      "\n"
     ]
    }
   ],
   "source": [
    "rows = table.find_all(\"tr\")\n",
    "#print(rows)\n",
    "\n",
    "for i in rows[1:]:\n",
    "    print(i.text)"
   ]
  },
  {
   "cell_type": "code",
   "execution_count": 31,
   "id": "2df6e4eb",
   "metadata": {},
   "outputs": [
    {
     "name": "stdout",
     "output_type": "stream",
     "text": [
      "                   Company PriceRs. Day HighRs.\n",
      "0            \\nTVS Motor\\n  1170.15      1184.4\n",
      "1      \\nGlenmark Pharma\\n      512       516.9\n",
      "2     \\nDr. Reddy''s Lab\\n  4909.35        4940\n",
      "3             \\nJBM Auto\\n   813.75       818.9\n",
      "4   \\nManappuram Finance\\n    129.6      133.95\n",
      "5        \\nDalmia Bharat\\n   2052.5        2078\n",
      "6        \\nPolycab India\\n  3138.85      3159.9\n",
      "7   \\nZydus Lifesciences\\n    517.1       519.4\n",
      "8         \\nAxita Cotton\\n    71.45        71.7\n",
      "9               \\nAptech\\n   451.35         455\n",
      "10    \\nSom Distilleries\\n    171.2       172.9\n",
      "11                 \\nNCC\\n    109.4         112\n",
      "12     \\nTitagarh Wagons\\n   300.35       305.2\n",
      "13       \\nKSolves India\\n   607.05      623.65\n",
      "14        \\nSurya Roshni\\n    768.6       782.4\n",
      "15           \\nTVS Motor\\n  1170.15      1184.4\n",
      "16     \\nGlenmark Pharma\\n      512       516.9\n",
      "17    \\nDr. Reddy''s Lab\\n  4909.35        4940\n",
      "18            \\nJBM Auto\\n   813.75       818.9\n",
      "19  \\nManappuram Finance\\n    129.6      133.95\n",
      "20       \\nDalmia Bharat\\n   2052.5        2078\n",
      "21       \\nPolycab India\\n  3138.85      3159.9\n",
      "22  \\nZydus Lifesciences\\n    517.1       519.4\n",
      "23        \\nAxita Cotton\\n    71.45        71.7\n",
      "24              \\nAptech\\n   451.35         455\n",
      "25    \\nSom Distilleries\\n    171.2       172.9\n",
      "26                 \\nNCC\\n    109.4         112\n",
      "27     \\nTitagarh Wagons\\n   300.35       305.2\n",
      "28       \\nKSolves India\\n   607.05      623.65\n",
      "29        \\nSurya Roshni\\n    768.6       782.4\n"
     ]
    }
   ],
   "source": [
    "rows = table.find_all(\"tr\")\n",
    "#print(rows)\n",
    "\n",
    "for i in rows[1:]:\n",
    "    data = i.find_all(\"td\")\n",
    "    #print(data)\n",
    "    row = [tr.text for tr in data]\n",
    "    #print(row)\n",
    "    l = len(df)\n",
    "    df.loc[l] = row\n",
    "print(df)"
   ]
  },
  {
   "cell_type": "code",
   "execution_count": 32,
   "id": "e8dad013",
   "metadata": {},
   "outputs": [],
   "source": [
    "df.to_csv(\"stock_market_data.csv\")"
   ]
  },
  {
   "cell_type": "code",
   "execution_count": null,
   "id": "1503cee0",
   "metadata": {},
   "outputs": [],
   "source": []
  }
 ],
 "metadata": {
  "kernelspec": {
   "display_name": "Python 3 (ipykernel)",
   "language": "python",
   "name": "python3"
  },
  "language_info": {
   "codemirror_mode": {
    "name": "ipython",
    "version": 3
   },
   "file_extension": ".py",
   "mimetype": "text/x-python",
   "name": "python",
   "nbconvert_exporter": "python",
   "pygments_lexer": "ipython3",
   "version": "3.9.12"
  }
 },
 "nbformat": 4,
 "nbformat_minor": 5
}
