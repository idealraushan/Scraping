{
 "cells": [
  {
   "cell_type": "code",
   "execution_count": 1,
   "id": "003de237",
   "metadata": {},
   "outputs": [],
   "source": [
    "import pandas as pd\n",
    "import requests\n",
    "from bs4 import BeautifulSoup"
   ]
  },
  {
   "cell_type": "code",
   "execution_count": 2,
   "id": "085e0ff9",
   "metadata": {
    "scrolled": true
   },
   "outputs": [],
   "source": [
    "Names = []\n",
    "Prices = []\n",
    "Description = []\n",
    "Reviews = []\n",
    "\n",
    "for j in range(0,330):\n",
    "    url =\"https://www.flipkart.com/search?q=mobile+under+50000&sid=tyy%2C4io&as=on&as-show=on&otracker=AS_QueryStore_OrganicAutoSuggest_1_18_na_na_na&otracker1=AS_QueryStore_OrganicAutoSuggest_1_18_na_na_na&as-pos=1&as-type=RECENT&suggestionId=mobile+under+50000%7CMobiles&requestId=59050bb1-160e-4a47-8f65-bb2c44c354c0&as-searchtext=mobile+under+500002&page=\"+str(j)\n",
    "    r = requests.get(url)\n",
    "    #print(r)\n",
    "    soup = BeautifulSoup(r.text,\"lxml\")\n",
    "    box  = soup.find(\"div\",class_ = \"_1YokD2 _3Mn1Gg\")\n",
    "        #next_page = soup.find(\"a\",class_ = \"_1LKTO3\").get(\"href\")\n",
    "        #nxt_page = \"https://www.flipkart.com\" + next_page\n",
    "        #print(nxt_page)\n",
    "\n",
    "    names = box.find_all(\"div\",class_ = \"_4rR01T\")\n",
    "    for i in names:\n",
    "        n = i.text\n",
    "        Names.append(n)\n",
    "    #print(Names)\n",
    "    \n",
    "    prices = box.find_all(\"div\", class_ = \"_30jeq3 _1_WHN1\")\n",
    "\n",
    "    for i in prices:\n",
    "        price = i.text\n",
    "        Prices.append(price)\n",
    "    #print(Prices)\n",
    "    \n",
    "    description = box.find_all(\"ul\",class_ = \"_1xgFaf\")\n",
    "    for i in description:\n",
    "        n = i.text\n",
    "        Description.append(n)\n",
    "    #print(Description)\n",
    "    \n",
    "    \n",
    "    \n",
    " # if some values are missing on the web page    \n",
    "    reviews = box.find_all(\"div\", class_ = \"_3LWZlK\")\n",
    "    for i in range(len(names)):\n",
    "        #for i in reviews:\n",
    "            if i < len(reviews):\n",
    "                rev = reviews[i].text\n",
    "            else:\n",
    "                rev = \"NaN\"\n",
    "            Reviews.append(rev)\n",
    "    #print(Reviews)\n"
   ]
  },
  {
   "cell_type": "code",
   "execution_count": 3,
   "id": "807d4d35",
   "metadata": {
    "scrolled": true
   },
   "outputs": [
    {
     "name": "stdout",
     "output_type": "stream",
     "text": [
      "1008\n"
     ]
    }
   ],
   "source": [
    "# Names = []\n",
    "# Prices = []\n",
    "# Description = []\n",
    "# Reviews = []\n",
    "\n",
    "# names = box.find_all(\"div\",class_ = \"_4rR01T\")\n",
    "# for i in names:\n",
    "#     n = i.text\n",
    "#     Names.append(n)\n",
    "print(len(Names))"
   ]
  },
  {
   "cell_type": "code",
   "execution_count": 4,
   "id": "83798258",
   "metadata": {
    "scrolled": false
   },
   "outputs": [
    {
     "name": "stdout",
     "output_type": "stream",
     "text": [
      "1008\n"
     ]
    }
   ],
   "source": [
    "#     prices = box.find_all(\"div\", class_ = \"_30jeq3 _1_WHN1\")\n",
    "\n",
    "#     for i in prices:\n",
    "#         price = i.text\n",
    "#         Prices.append(price)\n",
    "print(len(Prices))"
   ]
  },
  {
   "cell_type": "code",
   "execution_count": 5,
   "id": "fb77d5d5",
   "metadata": {
    "scrolled": false
   },
   "outputs": [
    {
     "name": "stdout",
     "output_type": "stream",
     "text": [
      "1008\n"
     ]
    }
   ],
   "source": [
    "#     description = box.find_all(\"ul\",class_ = \"_1xgFaf\")\n",
    "#     for i in description:\n",
    "#         n = i.text\n",
    "#         Description.append(n)\n",
    "print(len(Description))\n"
   ]
  },
  {
   "cell_type": "code",
   "execution_count": 6,
   "id": "8929699b",
   "metadata": {
    "scrolled": true
   },
   "outputs": [
    {
     "name": "stdout",
     "output_type": "stream",
     "text": [
      "1008\n"
     ]
    }
   ],
   "source": [
    "#     reviews = box.find_all(\"div\", class_ = \"_3LWZlK\")\n",
    "#     for i in reviews:\n",
    "#         n = i.text\n",
    "#         Reviews.append(n)\n",
    "print(len(Reviews))"
   ]
  },
  {
   "cell_type": "code",
   "execution_count": 7,
   "id": "5d85802a",
   "metadata": {
    "scrolled": true
   },
   "outputs": [
    {
     "data": {
      "text/html": [
       "<div>\n",
       "<style scoped>\n",
       "    .dataframe tbody tr th:only-of-type {\n",
       "        vertical-align: middle;\n",
       "    }\n",
       "\n",
       "    .dataframe tbody tr th {\n",
       "        vertical-align: top;\n",
       "    }\n",
       "\n",
       "    .dataframe thead th {\n",
       "        text-align: right;\n",
       "    }\n",
       "</style>\n",
       "<table border=\"1\" class=\"dataframe\">\n",
       "  <thead>\n",
       "    <tr style=\"text-align: right;\">\n",
       "      <th></th>\n",
       "      <th>Product name</th>\n",
       "      <th>Product price</th>\n",
       "      <th>product description</th>\n",
       "      <th>Product reviews</th>\n",
       "    </tr>\n",
       "  </thead>\n",
       "  <tbody>\n",
       "    <tr>\n",
       "      <th>0</th>\n",
       "      <td>SAMSUNG Galaxy S21 FE 5G (Graphite, 128 GB)</td>\n",
       "      <td>₹54,999</td>\n",
       "      <td>8 GB RAM | 128 GB ROM16.26 cm (6.4 inch) Full ...</td>\n",
       "      <td>4.3</td>\n",
       "    </tr>\n",
       "    <tr>\n",
       "      <th>1</th>\n",
       "      <td>MOTOROLA Edge 30 Ultra (Interstellar Black, 12...</td>\n",
       "      <td>₹49,999</td>\n",
       "      <td>8 GB RAM | 128 GB ROM16.94 cm (6.67 inch) Full...</td>\n",
       "      <td>4.3</td>\n",
       "    </tr>\n",
       "    <tr>\n",
       "      <th>2</th>\n",
       "      <td>SAMSUNG Galaxy A73 5G (Awesome Gray, 256 GB)</td>\n",
       "      <td>₹42,999</td>\n",
       "      <td>8 GB RAM | 256 GB ROM | Expandable Upto 1 TB17...</td>\n",
       "      <td>4.2</td>\n",
       "    </tr>\n",
       "    <tr>\n",
       "      <th>3</th>\n",
       "      <td>MOTOROLA Edge 30 Ultra (Starlight White, 128 GB)</td>\n",
       "      <td>₹49,999</td>\n",
       "      <td>8 GB RAM | 128 GB ROM16.94 cm (6.67 inch) Full...</td>\n",
       "      <td>4.3</td>\n",
       "    </tr>\n",
       "    <tr>\n",
       "      <th>4</th>\n",
       "      <td>Xiaomi 12 Pro 5G (Opera Mauve, 256 GB)</td>\n",
       "      <td>₹46,490</td>\n",
       "      <td>8 GB RAM | 256 GB ROM17.09 cm (6.73 inch) Full...</td>\n",
       "      <td>4.1</td>\n",
       "    </tr>\n",
       "    <tr>\n",
       "      <th>...</th>\n",
       "      <td>...</td>\n",
       "      <td>...</td>\n",
       "      <td>...</td>\n",
       "      <td>...</td>\n",
       "    </tr>\n",
       "    <tr>\n",
       "      <th>1003</th>\n",
       "      <td>realme GT Neo 3T (Dash Yellow, 128 GB)</td>\n",
       "      <td>₹22,999</td>\n",
       "      <td>6 GB RAM | 128 GB ROM16.81 cm (6.62 inch) Full...</td>\n",
       "      <td>4.3</td>\n",
       "    </tr>\n",
       "    <tr>\n",
       "      <th>1004</th>\n",
       "      <td>realme GT Neo 3T (Dash Yellow, 256 GB)</td>\n",
       "      <td>₹26,999</td>\n",
       "      <td>8 GB RAM | 256 GB ROM16.81 cm (6.62 inch) Full...</td>\n",
       "      <td>4.3</td>\n",
       "    </tr>\n",
       "    <tr>\n",
       "      <th>1005</th>\n",
       "      <td>realme GT Neo 3T (Drifting White, 128 GB)</td>\n",
       "      <td>₹22,999</td>\n",
       "      <td>6 GB RAM | 128 GB ROM16.81 cm (6.62 inch) Full...</td>\n",
       "      <td>4.3</td>\n",
       "    </tr>\n",
       "    <tr>\n",
       "      <th>1006</th>\n",
       "      <td>MOTOROLA G60 (Moonless, 128 GB)</td>\n",
       "      <td>₹15,999</td>\n",
       "      <td>6 GB RAM | 128 GB ROM17.22 cm (6.78 inch) Full...</td>\n",
       "      <td>4.2</td>\n",
       "    </tr>\n",
       "    <tr>\n",
       "      <th>1007</th>\n",
       "      <td>realme narzo 50 5G (Hyper Blue, 128 GB)</td>\n",
       "      <td>₹16,800</td>\n",
       "      <td>4 GB RAM | 128 GB ROM16.76 cm (6.6 inch) Displ...</td>\n",
       "      <td>4.4</td>\n",
       "    </tr>\n",
       "  </tbody>\n",
       "</table>\n",
       "<p>1008 rows × 4 columns</p>\n",
       "</div>"
      ],
      "text/plain": [
       "                                           Product name Product price  \\\n",
       "0           SAMSUNG Galaxy S21 FE 5G (Graphite, 128 GB)       ₹54,999   \n",
       "1     MOTOROLA Edge 30 Ultra (Interstellar Black, 12...       ₹49,999   \n",
       "2          SAMSUNG Galaxy A73 5G (Awesome Gray, 256 GB)       ₹42,999   \n",
       "3      MOTOROLA Edge 30 Ultra (Starlight White, 128 GB)       ₹49,999   \n",
       "4                Xiaomi 12 Pro 5G (Opera Mauve, 256 GB)       ₹46,490   \n",
       "...                                                 ...           ...   \n",
       "1003             realme GT Neo 3T (Dash Yellow, 128 GB)       ₹22,999   \n",
       "1004             realme GT Neo 3T (Dash Yellow, 256 GB)       ₹26,999   \n",
       "1005          realme GT Neo 3T (Drifting White, 128 GB)       ₹22,999   \n",
       "1006                    MOTOROLA G60 (Moonless, 128 GB)       ₹15,999   \n",
       "1007            realme narzo 50 5G (Hyper Blue, 128 GB)       ₹16,800   \n",
       "\n",
       "                                    product description Product reviews  \n",
       "0     8 GB RAM | 128 GB ROM16.26 cm (6.4 inch) Full ...             4.3  \n",
       "1     8 GB RAM | 128 GB ROM16.94 cm (6.67 inch) Full...             4.3  \n",
       "2     8 GB RAM | 256 GB ROM | Expandable Upto 1 TB17...             4.2  \n",
       "3     8 GB RAM | 128 GB ROM16.94 cm (6.67 inch) Full...             4.3  \n",
       "4     8 GB RAM | 256 GB ROM17.09 cm (6.73 inch) Full...             4.1  \n",
       "...                                                 ...             ...  \n",
       "1003  6 GB RAM | 128 GB ROM16.81 cm (6.62 inch) Full...             4.3  \n",
       "1004  8 GB RAM | 256 GB ROM16.81 cm (6.62 inch) Full...             4.3  \n",
       "1005  6 GB RAM | 128 GB ROM16.81 cm (6.62 inch) Full...             4.3  \n",
       "1006  6 GB RAM | 128 GB ROM17.22 cm (6.78 inch) Full...             4.2  \n",
       "1007  4 GB RAM | 128 GB ROM16.76 cm (6.6 inch) Displ...             4.4  \n",
       "\n",
       "[1008 rows x 4 columns]"
      ]
     },
     "execution_count": 7,
     "metadata": {},
     "output_type": "execute_result"
    }
   ],
   "source": [
    "df = pd.DataFrame({\"Product name\":Names,\"Product price\":Prices,\"product description\":Description,\"Product reviews\":Reviews})\n",
    "df"
   ]
  },
  {
   "cell_type": "code",
   "execution_count": 8,
   "id": "4b94e169",
   "metadata": {},
   "outputs": [],
   "source": [
    "df.to_csv(\"multi_pages_flipkart_mobiles_under_50000.csv\")"
   ]
  },
  {
   "cell_type": "code",
   "execution_count": null,
   "id": "c330ea6a",
   "metadata": {},
   "outputs": [],
   "source": []
  },
  {
   "cell_type": "code",
   "execution_count": null,
   "id": "f63fb148",
   "metadata": {},
   "outputs": [],
   "source": []
  }
 ],
 "metadata": {
  "kernelspec": {
   "display_name": "Python 3 (ipykernel)",
   "language": "python",
   "name": "python3"
  },
  "language_info": {
   "codemirror_mode": {
    "name": "ipython",
    "version": 3
   },
   "file_extension": ".py",
   "mimetype": "text/x-python",
   "name": "python",
   "nbconvert_exporter": "python",
   "pygments_lexer": "ipython3",
   "version": "3.9.12"
  }
 },
 "nbformat": 4,
 "nbformat_minor": 5
}
